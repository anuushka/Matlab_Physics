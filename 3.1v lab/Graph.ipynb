{
 "cells": [
  {
   "cell_type": "code",
   "execution_count": 1,
   "metadata": {},
   "outputs": [],
   "source": [
    "import math\n",
    "import numpy as np\n",
    "\n",
    "import matplotlib.pyplot as plt"
   ]
  },
  {
   "cell_type": "code",
   "execution_count": 2,
   "metadata": {},
   "outputs": [],
   "source": [
    "def Get_data(Path1):\n",
    "    with open(Path1) as f:\n",
    "        data_ = f.readlines()[9:]\n",
    "        \n",
    "    data1 = []\n",
    "    for i in data_:\n",
    "        x, y, v = i.split()\n",
    "        x, y = float(x), float(y)\n",
    "        v = complex(v.replace('i', 'j')).real\n",
    "\n",
    "        data1.append([x, y, v])\n",
    "    return data1"
   ]
  },
  {
   "cell_type": "code",
   "execution_count": 3,
   "metadata": {},
   "outputs": [],
   "source": [
    "def E(x, y, data):\n",
    "    return math.sqrt(find_P(x, y, data, 0) ** 2 + find_P(x, y, data, 1) ** 2)\n",
    "\n",
    "def lenP(d, x, y):\n",
    "    return math.sqrt((d[0] - x) ** 2 + (d[1] - y) ** 2)\n",
    "\n",
    "def find_P(x, y, data, typ = 0): # typ = 0 means x, typ = 1 means y\n",
    "    if typ:\n",
    "        minP = min([i for i in data if i[typ] < y], key = lambda d: lenP(d, x, y))\n",
    "        maxP = min([i for i in data if i[typ] > y], key = lambda d: lenP(d, x, y))\n",
    "    else:\n",
    "        minP = min([i for i in data if i[typ] < x], key = lambda d: lenP(d, x, y))\n",
    "        maxP = min([i for i in data if i[typ] > x], key = lambda d: lenP(d, x, y))\n",
    "\n",
    "    return (maxP[2] - minP[2]) / (maxP[typ] - minP[typ])"
   ]
  },
  {
   "cell_type": "code",
   "execution_count": 27,
   "metadata": {},
   "outputs": [
    {
     "name": "stderr",
     "output_type": "stream",
     "text": [
      "<ipython-input-27-7f60c36a2724>:19: UserWarning: The following kwargs were not used by contour: 'linestyle'\n",
      "  graph = plt.contourf(x, y, Z.T,\n"
     ]
    },
    {
     "data": {
      "text/plain": [
       "<Figure size 432x288 with 0 Axes>"
      ]
     },
     "metadata": {},
     "output_type": "display_data"
    }
   ],
   "source": [
    "for part in range(1, 4):\n",
    "    for d in range(1, 7):\n",
    "        Path  = f'./lab 3.1/part{part}/{part}.{d}.txt'\n",
    "        data1 = Get_data(Path)\n",
    "        minX, maxX = min(data1, key = lambda x: x[0])[0], max(data1, key = lambda x: x[0])[0]\n",
    "        minY, maxY = min(data1, key = lambda x: x[1])[1], max(data1, key = lambda x: x[1])[1]\n",
    "        x = np.linspace(minX + 0.1, maxX -0.1, int((maxX - minX) * 10) - 2)\n",
    "        y = np.linspace(minY + 0.1, maxY -0.1, int((maxY - minY) * 10) - 2)\n",
    "        A1, res = [], []\n",
    "        for i in x:\n",
    "            cur = []\n",
    "            for j in y:\n",
    "                z = E(i, j, data1)\n",
    "                res.append(z)\n",
    "                cur.append(z)\n",
    "            A1.append(cur)\n",
    "        Z = np.array(A1)\n",
    "        res = np.array(res)\n",
    "        graph = plt.contourf(x, y, Z.T,\n",
    "                                np.linspace(np.percentile(res, 25), np.percentile(res, 75), 200),\n",
    "                                linestyle=None, extend='both',\n",
    "                               cmap = 'coolwarm')\n",
    "        plt.colorbar(graph)\n",
    "        for c in graph.collections:\n",
    "            c.set_edgecolor(\"face\")\n",
    "\n",
    "        plt.savefig(f'./lab 3.1/part{part}/{part}.{d}.png')\n",
    "        plt.clf()"
   ]
  }
 ],
 "metadata": {
  "kernelspec": {
   "display_name": "Python 3",
   "language": "python",
   "name": "python3"
  },
  "language_info": {
   "codemirror_mode": {
    "name": "ipython",
    "version": 3
   },
   "file_extension": ".py",
   "mimetype": "text/x-python",
   "name": "python",
   "nbconvert_exporter": "python",
   "pygments_lexer": "ipython3",
   "version": "3.8.2"
  }
 },
 "nbformat": 4,
 "nbformat_minor": 4
}
